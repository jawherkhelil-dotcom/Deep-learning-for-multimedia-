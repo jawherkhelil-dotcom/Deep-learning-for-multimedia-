{
 "cells": [
  {
   "cell_type": "code",
   "execution_count": 6,
   "metadata": {},
   "outputs": [],
   "source": [
    "#framework deep learning : tensorflow \n",
    "import keras\n",
    "from keras.datasets import mnist \n",
    "#mo3le9- ma3en\n",
    "from keras.models import Sequential \n",
    "#Dense: fully connected\n",
    "#flatten: rendre dernier features map sur un verteur\n",
    "from keras.layers import Dense, Dropout, Flatten\n",
    "from keras.layers import Conv2D, MaxPooling2D \n",
    "from keras import backend as K "
   ]
  },
  {
   "cell_type": "code",
   "execution_count": 7,
   "metadata": {},
   "outputs": [
    {
     "name": "stdout",
     "output_type": "stream",
     "text": [
      "Downloading data from https://s3.amazonaws.com/img-datasets/mnist.npz\n",
      "11493376/11490434 [==============================] - 10s 1us/step\n",
      "x_train shape: (60000, 28, 28, 1)\n",
      "60000 train samples\n",
      "10000 test samples\n"
     ]
    }
   ],
   "source": [
    "#g\n",
    "batch_size = 128\n",
    "num_classes = 10 \n",
    "epochs = 4 \n",
    "# input image dimensions \n",
    "#taille de l'image\n",
    "img_rows, img_cols = 28, 28 \n",
    "\n",
    "# the data, split between train and test sets \n",
    "(x_train, y_train), (x_test, y_test) = mnist.load_data() \n",
    "if K.image_data_format() == 'channels_first':\n",
    "    x_train = x_train.reshape(x_train.shape[0], 1, img_rows, img_cols)\n",
    "    x_test = x_test.reshape(x_test.shape[0], 1, img_rows, img_cols)     \n",
    "    input_shape = (1, img_rows, img_cols) \n",
    "else:    \n",
    "    x_train = x_train.reshape(x_train.shape[0], img_rows, img_cols, 1)\n",
    "    x_test = x_test.reshape(x_test.shape[0], img_rows, img_cols, 1)      \n",
    "    input_shape = (img_rows, img_cols, 1)\n",
    "        \n",
    "x_train = x_train.astype('float32')\n",
    "x_test = x_test.astype('float32') \n",
    "x_train /= 255\n",
    "x_test /= 255 \n",
    "print('x_train shape:', x_train.shape) \n",
    "print(x_train.shape[0], 'train samples') \n",
    "print(x_test.shape[0], 'test samples') \n",
    "\n",
    "# convert class vectors to binary class matrice\n",
    "y_train = keras.utils.to_categorical(y_train, num_classes)\n",
    "y_test = keras.utils.to_categorical(y_test, num_classes) \n"
   ]
  },
  {
   "cell_type": "code",
   "execution_count": 11,
   "metadata": {},
   "outputs": [
    {
     "name": "stdout",
     "output_type": "stream",
     "text": [
      "Train on 60000 samples, validate on 10000 samples\n",
      "Epoch 1/4\n",
      "60000/60000 [==============================] - 150s 3ms/step - loss: 0.2628 - accuracy: 0.9201 - val_loss: 0.0553 - val_accuracy: 0.9821\n",
      "Epoch 2/4\n",
      "60000/60000 [==============================] - 133s 2ms/step - loss: 0.0851 - accuracy: 0.9747 - val_loss: 0.0401 - val_accuracy: 0.9861\n",
      "Epoch 3/4\n",
      "60000/60000 [==============================] - 130s 2ms/step - loss: 0.0626 - accuracy: 0.9815 - val_loss: 0.0327 - val_accuracy: 0.9891\n",
      "Epoch 4/4\n",
      "60000/60000 [==============================] - 132s 2ms/step - loss: 0.0547 - accuracy: 0.9840 - val_loss: 0.0365 - val_accuracy: 0.9885\n",
      "Test loss: 0.03645569847846855\n",
      "Test accuracy: 0.9884999990463257\n"
     ]
    }
   ],
   "source": [
    "model = Sequential()\n",
    "model.add(Conv2D(32, kernel_size=(3, 3),\n",
    "                 activation='relu',\n",
    "                 input_shape=input_shape))\n",
    "model.add(Conv2D(64, (3, 3), activation='relu'))\n",
    "model.add(MaxPooling2D(pool_size=(2, 2)))\n",
    "model.add(Dropout(0.25)) \n",
    "model.add(Flatten())\n",
    "model.add(Dense(128, activation='relu'))\n",
    "model.add(Dropout(0.5)) \n",
    "model.add(Dense(num_classes, activation='softmax'))\n",
    "model.compile(loss=keras.losses.categorical_crossentropy,\n",
    "              optimizer=keras.optimizers.Adadelta(),\n",
    "              metrics=['accuracy']) \n",
    "model.fit(x_train, y_train,\n",
    "          batch_size=batch_size,\n",
    "          epochs=epochs,\n",
    "          verbose=1,\n",
    "          validation_data=(x_test, y_test))\n",
    "score = model.evaluate(x_test, y_test, verbose=0) \n",
    "print('Test loss:', score[0])\n",
    "print('Test accuracy:', score[1]) "
   ]
  }
 ],
 "metadata": {
  "kernelspec": {
   "display_name": "Python 3",
   "language": "python",
   "name": "python3"
  },
  "language_info": {
   "codemirror_mode": {
    "name": "ipython",
    "version": 3
   },
   "file_extension": ".py",
   "mimetype": "text/x-python",
   "name": "python",
   "nbconvert_exporter": "python",
   "pygments_lexer": "ipython3",
   "version": "3.7.4"
  }
 },
 "nbformat": 4,
 "nbformat_minor": 4
}
